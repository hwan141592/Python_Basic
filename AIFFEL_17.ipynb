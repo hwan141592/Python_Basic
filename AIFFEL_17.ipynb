{
 "cells": [
  {
   "cell_type": "markdown",
   "metadata": {},
   "source": [
    "# In this page...\n",
    " - Internet & protocol\n",
    " - API usage\n",
    " - Crawling"
   ]
  },
  {
   "cell_type": "code",
   "execution_count": 2,
   "metadata": {},
   "outputs": [
    {
     "name": "stdout",
     "output_type": "stream",
     "text": [
      "Received b'HTTP/1.0 404 Not Found\\r\\nContent-Type: text/html; charset=UTF-8\\r\\nDate: Sat, 24 Oct 2020 02:03:32 GMT\\r\\nServer: gws\\r\\nContent-Length: 1561\\r\\nX-XSS-Protection: 0\\r\\nX-Frame-Options: SAMEORIGIN\\r\\n\\r\\n<!DOCTYPE html>\\n<html lang=en>\\n  <meta charset=utf-8>\\n  <meta name=viewport content=\"initial-scale=1, minimum-scale=1, width=device-width\">\\n  <title>Error 404 (Not Found)!!1</title>\\n  <style>\\n    *{margin:0;padding:0}html,code{font:15px/22px arial,sans-serif}html{background:#fff;color:#222;padding:15px}body{margin:7% auto 0;max-width:390px;min-height:180px;padding:30px 0 15px}* > body{background:url(//www.google.com/images/errors/robot.png) 100% 5px no-repeat;padding-right:205px}p{margin:11px 0 22px;overflow:hidden}ins{color:#777;text-decoration:none}a img{border:0}@media screen and (max-width:772px){body{background:none;margin-top:0;max-width:none;padding-right:0}}#logo{background:url(//www.google.com/images/branding/googlelogo/1x/googlelogo_color_150x54dp.png) no-repeat;margin-left:-5px}@media only screen and (min-resoluti'\n"
     ]
    }
   ],
   "source": [
    "import socket\n",
    "\n",
    "# 소켓 s를 하나 열어서\n",
    "with socket.socket(socket.AF_INET, socket.SOCK_STREAM) as s:     \n",
    "\n",
    "    # www.google.com 이라는 호스트의 80번 포트에 접속합니다. \n",
    "    s.connect(('www.google.com', 80))          \n",
    "    \n",
    "    cmd = 'GET http://www.google.com HTTP/1.0\\r\\n\\r\\n'.encode() \n",
    "\n",
    "    # 접속이 되면 GET xxxxx 형식의 HTTP 프로토콜로 된 명령을 전송합니다. \n",
    "    s.send(cmd)                 \n",
    "    \n",
    "    # 그리고 1024바이트만큼의 HTTP 응답을 수신합니다. \n",
    "    data = s.recv(1024)    \n",
    "    \n",
    "print('Received', data)  # 어떤 응답을 수신했는지 볼까요?"
   ]
  },
  {
   "cell_type": "code",
   "execution_count": null,
   "metadata": {},
   "outputs": [],
   "source": []
  },
  {
   "cell_type": "code",
   "execution_count": null,
   "metadata": {},
   "outputs": [],
   "source": []
  },
  {
   "cell_type": "code",
   "execution_count": null,
   "metadata": {},
   "outputs": [],
   "source": []
  },
  {
   "cell_type": "code",
   "execution_count": null,
   "metadata": {},
   "outputs": [],
   "source": []
  },
  {
   "cell_type": "code",
   "execution_count": null,
   "metadata": {},
   "outputs": [],
   "source": []
  }
 ],
 "metadata": {
  "kernelspec": {
   "display_name": "Python 3",
   "language": "python",
   "name": "python3"
  },
  "language_info": {
   "codemirror_mode": {
    "name": "ipython",
    "version": 3
   },
   "file_extension": ".py",
   "mimetype": "text/x-python",
   "name": "python",
   "nbconvert_exporter": "python",
   "pygments_lexer": "ipython3",
   "version": "3.8.3"
  }
 },
 "nbformat": 4,
 "nbformat_minor": 4
}
