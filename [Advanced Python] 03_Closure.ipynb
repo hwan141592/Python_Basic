{
 "cells": [
  {
   "cell_type": "markdown",
   "metadata": {},
   "source": [
    "# Closure\n",
    "### Concepts\n",
    " - global variable\n",
    " - local variable\n",
    " - global space\n",
    " - local space"
   ]
  },
  {
   "cell_type": "code",
   "execution_count": 24,
   "metadata": {},
   "outputs": [
    {
     "data": {
      "text/plain": [
       "{'__name__': '__main__',\n",
       " '__doc__': 'Automatically created module for IPython interactive environment',\n",
       " '__package__': None,\n",
       " '__loader__': None,\n",
       " '__spec__': None,\n",
       " '__builtin__': <module 'builtins' (built-in)>,\n",
       " '__builtins__': <module 'builtins' (built-in)>,\n",
       " '_ih': ['',\n",
       "  'x = 10\\nlocals()',\n",
       "  'locals[10:]',\n",
       "  'locals()[10:]',\n",
       "  'locals',\n",
       "  'locals()',\n",
       "  'type(locals())',\n",
       "  'locals()[10:]',\n",
       "  'locals()[10:15]',\n",
       "  'locals()[10]',\n",
       "  'locals()[10]',\n",
       "  'locals().index()',\n",
       "  'locals().values',\n",
       "  'list(locals().values)',\n",
       "  '(locals().values)',\n",
       "  'for i in (locals().values):\\n    print(i)',\n",
       "  'for k,v in locals():\\n    print(k)',\n",
       "  'for k,v in locals():\\n    print(v)',\n",
       "  'first_key = list(locals())[0]\\nfirst_val = list(locals().values())[0]',\n",
       "  'list(locals())[0]\\nlist(locals().values())[0]',\n",
       "  'list(locals().values())[0]',\n",
       "  'locals()',\n",
       "  'list(locals())[-1]',\n",
       "  'list(locals())[0]',\n",
       "  'locals()'],\n",
       " '_oh': {1: {...},\n",
       "  4: <function locals()>,\n",
       "  5: {...},\n",
       "  6: dict,\n",
       "  12: <function dict.values>,\n",
       "  14: <function dict.values>,\n",
       "  19: '__main__',\n",
       "  20: '__main__',\n",
       "  21: {...},\n",
       "  22: '_i22',\n",
       "  23: '__name__'},\n",
       " '_dh': ['/Users/hwan/Desktop/git_repos/Python_Fundamentals'],\n",
       " 'In': ['',\n",
       "  'x = 10\\nlocals()',\n",
       "  'locals[10:]',\n",
       "  'locals()[10:]',\n",
       "  'locals',\n",
       "  'locals()',\n",
       "  'type(locals())',\n",
       "  'locals()[10:]',\n",
       "  'locals()[10:15]',\n",
       "  'locals()[10]',\n",
       "  'locals()[10]',\n",
       "  'locals().index()',\n",
       "  'locals().values',\n",
       "  'list(locals().values)',\n",
       "  '(locals().values)',\n",
       "  'for i in (locals().values):\\n    print(i)',\n",
       "  'for k,v in locals():\\n    print(k)',\n",
       "  'for k,v in locals():\\n    print(v)',\n",
       "  'first_key = list(locals())[0]\\nfirst_val = list(locals().values())[0]',\n",
       "  'list(locals())[0]\\nlist(locals().values())[0]',\n",
       "  'list(locals().values())[0]',\n",
       "  'locals()',\n",
       "  'list(locals())[-1]',\n",
       "  'list(locals())[0]',\n",
       "  'locals()'],\n",
       " 'Out': {1: {...},\n",
       "  4: <function locals()>,\n",
       "  5: {...},\n",
       "  6: dict,\n",
       "  12: <function dict.values>,\n",
       "  14: <function dict.values>,\n",
       "  19: '__main__',\n",
       "  20: '__main__',\n",
       "  21: {...},\n",
       "  22: '_i22',\n",
       "  23: '__name__'},\n",
       " 'get_ipython': <bound method InteractiveShell.get_ipython of <ipykernel.zmqshell.ZMQInteractiveShell object at 0x7ff4c567ceb0>>,\n",
       " 'exit': <IPython.core.autocall.ZMQExitAutocall at 0x7ff4c56aaca0>,\n",
       " 'quit': <IPython.core.autocall.ZMQExitAutocall at 0x7ff4c56aaca0>,\n",
       " '_': '__name__',\n",
       " '__': '_i22',\n",
       " '___': {...},\n",
       " '_i': 'list(locals())[0]',\n",
       " '_ii': 'list(locals())[-1]',\n",
       " '_iii': 'locals()',\n",
       " '_i1': 'x = 10\\nlocals()',\n",
       " 'x': 10,\n",
       " '_1': {...},\n",
       " '_i2': 'locals[10:]',\n",
       " '_i3': 'locals()[10:]',\n",
       " '_i4': 'locals',\n",
       " '_4': <function locals()>,\n",
       " '_i5': 'locals()',\n",
       " '_5': {...},\n",
       " '_i6': 'type(locals())',\n",
       " '_6': dict,\n",
       " '_i7': 'locals()[10:]',\n",
       " '_i8': 'locals()[10:15]',\n",
       " '_i9': 'locals()[10]',\n",
       " '_i10': 'locals()[10]',\n",
       " '_i11': 'locals().index()',\n",
       " '_i12': 'locals().values',\n",
       " '_12': <function dict.values>,\n",
       " '_i13': 'list(locals().values)',\n",
       " '_i14': '(locals().values)',\n",
       " '_14': <function dict.values>,\n",
       " '_i15': 'for i in (locals().values):\\n    print(i)',\n",
       " '_i16': 'for k,v in locals():\\n    print(k)',\n",
       " '_i17': 'for k,v in locals():\\n    print(v)',\n",
       " '_i18': 'first_key = list(locals())[0]\\nfirst_val = list(locals().values())[0]',\n",
       " 'first_key': '__name__',\n",
       " 'first_val': '__main__',\n",
       " '_i19': 'list(locals())[0]\\nlist(locals().values())[0]',\n",
       " '_19': '__main__',\n",
       " '_i20': 'list(locals().values())[0]',\n",
       " '_20': '__main__',\n",
       " '_i21': 'locals()',\n",
       " '_21': {...},\n",
       " '_i22': 'list(locals())[-1]',\n",
       " '_22': '_i22',\n",
       " '_i23': 'list(locals())[0]',\n",
       " '_23': '__name__',\n",
       " '_i24': 'locals()'}"
      ]
     },
     "execution_count": 24,
     "metadata": {},
     "output_type": "execute_result"
    }
   ],
   "source": [
    "locals()"
   ]
  },
  {
   "cell_type": "code",
   "execution_count": 25,
   "metadata": {},
   "outputs": [
    {
     "data": {
      "text/plain": [
       "'__name__'"
      ]
     },
     "execution_count": 25,
     "metadata": {},
     "output_type": "execute_result"
    }
   ],
   "source": [
    "list(locals())[0]"
   ]
  },
  {
   "cell_type": "code",
   "execution_count": 26,
   "metadata": {},
   "outputs": [
    {
     "data": {
      "text/plain": [
       "'__main__'"
      ]
     },
     "execution_count": 26,
     "metadata": {},
     "output_type": "execute_result"
    }
   ],
   "source": [
    "list(locals().values())[0]"
   ]
  },
  {
   "cell_type": "code",
   "execution_count": null,
   "metadata": {},
   "outputs": [],
   "source": []
  },
  {
   "cell_type": "code",
   "execution_count": null,
   "metadata": {},
   "outputs": [],
   "source": []
  }
 ],
 "metadata": {
  "kernelspec": {
   "display_name": "Python 3",
   "language": "python",
   "name": "python3"
  },
  "language_info": {
   "codemirror_mode": {
    "name": "ipython",
    "version": 3
   },
   "file_extension": ".py",
   "mimetype": "text/x-python",
   "name": "python",
   "nbconvert_exporter": "python",
   "pygments_lexer": "ipython3",
   "version": "3.8.3"
  }
 },
 "nbformat": 4,
 "nbformat_minor": 4
}
