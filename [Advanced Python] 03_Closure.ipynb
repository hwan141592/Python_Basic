{
 "cells": [
  {
   "cell_type": "markdown",
   "metadata": {},
   "source": [
    "# Closure\n",
    "### Concepts\n",
    " - global variable\n",
    " - local variable\n",
    " - global space\n",
    " - local space"
   ]
  },
  {
   "cell_type": "markdown",
   "metadata": {},
   "source": [
    "### Namespace\n",
    " - dictionary type\n",
    " - {variable: value}"
   ]
  },
  {
   "cell_type": "code",
   "execution_count": 24,
   "metadata": {},
   "outputs": [
    {
     "data": {
      "text/plain": [
       "{'__name__': '__main__',\n",
       " '__doc__': 'Automatically created module for IPython interactive environment',\n",
       " '__package__': None,\n",
       " '__loader__': None,\n",
       " '__spec__': None,\n",
       " '__builtin__': <module 'builtins' (built-in)>,\n",
       " '__builtins__': <module 'builtins' (built-in)>,\n",
       " '_ih': ['',\n",
       "  'x = 10\\nlocals()',\n",
       "  'locals[10:]',\n",
       "  'locals()[10:]',\n",
       "  'locals',\n",
       "  'locals()',\n",
       "  'type(locals())',\n",
       "  'locals()[10:]',\n",
       "  'locals()[10:15]',\n",
       "  'locals()[10]',\n",
       "  'locals()[10]',\n",
       "  'locals().index()',\n",
       "  'locals().values',\n",
       "  'list(locals().values)',\n",
       "  '(locals().values)',\n",
       "  'for i in (locals().values):\\n    print(i)',\n",
       "  'for k,v in locals():\\n    print(k)',\n",
       "  'for k,v in locals():\\n    print(v)',\n",
       "  'first_key = list(locals())[0]\\nfirst_val = list(locals().values())[0]',\n",
       "  'list(locals())[0]\\nlist(locals().values())[0]',\n",
       "  'list(locals().values())[0]',\n",
       "  'locals()',\n",
       "  'list(locals())[-1]',\n",
       "  'list(locals())[0]',\n",
       "  'locals()'],\n",
       " '_oh': {1: {...},\n",
       "  4: <function locals()>,\n",
       "  5: {...},\n",
       "  6: dict,\n",
       "  12: <function dict.values>,\n",
       "  14: <function dict.values>,\n",
       "  19: '__main__',\n",
       "  20: '__main__',\n",
       "  21: {...},\n",
       "  22: '_i22',\n",
       "  23: '__name__'},\n",
       " '_dh': ['/Users/hwan/Desktop/git_repos/Python_Fundamentals'],\n",
       " 'In': ['',\n",
       "  'x = 10\\nlocals()',\n",
       "  'locals[10:]',\n",
       "  'locals()[10:]',\n",
       "  'locals',\n",
       "  'locals()',\n",
       "  'type(locals())',\n",
       "  'locals()[10:]',\n",
       "  'locals()[10:15]',\n",
       "  'locals()[10]',\n",
       "  'locals()[10]',\n",
       "  'locals().index()',\n",
       "  'locals().values',\n",
       "  'list(locals().values)',\n",
       "  '(locals().values)',\n",
       "  'for i in (locals().values):\\n    print(i)',\n",
       "  'for k,v in locals():\\n    print(k)',\n",
       "  'for k,v in locals():\\n    print(v)',\n",
       "  'first_key = list(locals())[0]\\nfirst_val = list(locals().values())[0]',\n",
       "  'list(locals())[0]\\nlist(locals().values())[0]',\n",
       "  'list(locals().values())[0]',\n",
       "  'locals()',\n",
       "  'list(locals())[-1]',\n",
       "  'list(locals())[0]',\n",
       "  'locals()'],\n",
       " 'Out': {1: {...},\n",
       "  4: <function locals()>,\n",
       "  5: {...},\n",
       "  6: dict,\n",
       "  12: <function dict.values>,\n",
       "  14: <function dict.values>,\n",
       "  19: '__main__',\n",
       "  20: '__main__',\n",
       "  21: {...},\n",
       "  22: '_i22',\n",
       "  23: '__name__'},\n",
       " 'get_ipython': <bound method InteractiveShell.get_ipython of <ipykernel.zmqshell.ZMQInteractiveShell object at 0x7ff4c567ceb0>>,\n",
       " 'exit': <IPython.core.autocall.ZMQExitAutocall at 0x7ff4c56aaca0>,\n",
       " 'quit': <IPython.core.autocall.ZMQExitAutocall at 0x7ff4c56aaca0>,\n",
       " '_': '__name__',\n",
       " '__': '_i22',\n",
       " '___': {...},\n",
       " '_i': 'list(locals())[0]',\n",
       " '_ii': 'list(locals())[-1]',\n",
       " '_iii': 'locals()',\n",
       " '_i1': 'x = 10\\nlocals()',\n",
       " 'x': 10,\n",
       " '_1': {...},\n",
       " '_i2': 'locals[10:]',\n",
       " '_i3': 'locals()[10:]',\n",
       " '_i4': 'locals',\n",
       " '_4': <function locals()>,\n",
       " '_i5': 'locals()',\n",
       " '_5': {...},\n",
       " '_i6': 'type(locals())',\n",
       " '_6': dict,\n",
       " '_i7': 'locals()[10:]',\n",
       " '_i8': 'locals()[10:15]',\n",
       " '_i9': 'locals()[10]',\n",
       " '_i10': 'locals()[10]',\n",
       " '_i11': 'locals().index()',\n",
       " '_i12': 'locals().values',\n",
       " '_12': <function dict.values>,\n",
       " '_i13': 'list(locals().values)',\n",
       " '_i14': '(locals().values)',\n",
       " '_14': <function dict.values>,\n",
       " '_i15': 'for i in (locals().values):\\n    print(i)',\n",
       " '_i16': 'for k,v in locals():\\n    print(k)',\n",
       " '_i17': 'for k,v in locals():\\n    print(v)',\n",
       " '_i18': 'first_key = list(locals())[0]\\nfirst_val = list(locals().values())[0]',\n",
       " 'first_key': '__name__',\n",
       " 'first_val': '__main__',\n",
       " '_i19': 'list(locals())[0]\\nlist(locals().values())[0]',\n",
       " '_19': '__main__',\n",
       " '_i20': 'list(locals().values())[0]',\n",
       " '_20': '__main__',\n",
       " '_i21': 'locals()',\n",
       " '_21': {...},\n",
       " '_i22': 'list(locals())[-1]',\n",
       " '_22': '_i22',\n",
       " '_i23': 'list(locals())[0]',\n",
       " '_23': '__name__',\n",
       " '_i24': 'locals()'}"
      ]
     },
     "execution_count": 24,
     "metadata": {},
     "output_type": "execute_result"
    }
   ],
   "source": [
    "locals()"
   ]
  },
  {
   "cell_type": "code",
   "execution_count": 25,
   "metadata": {},
   "outputs": [
    {
     "data": {
      "text/plain": [
       "'__name__'"
      ]
     },
     "execution_count": 25,
     "metadata": {},
     "output_type": "execute_result"
    }
   ],
   "source": [
    "list(locals())[0]"
   ]
  },
  {
   "cell_type": "code",
   "execution_count": 26,
   "metadata": {},
   "outputs": [
    {
     "data": {
      "text/plain": [
       "'__main__'"
      ]
     },
     "execution_count": 26,
     "metadata": {},
     "output_type": "execute_result"
    }
   ],
   "source": [
    "list(locals().values())[0]"
   ]
  },
  {
   "cell_type": "code",
   "execution_count": 17,
   "metadata": {},
   "outputs": [
    {
     "name": "stdout",
     "output_type": "stream",
     "text": [
      "{'k': 77}\n"
     ]
    }
   ],
   "source": [
    "def foo():\n",
    "    k = 77\n",
    "    print(locals())  # local namespace\n",
    "\n",
    "foo()"
   ]
  },
  {
   "cell_type": "markdown",
   "metadata": {},
   "source": [
    "### Scope"
   ]
  },
  {
   "cell_type": "code",
   "execution_count": 9,
   "metadata": {},
   "outputs": [
    {
     "name": "stdout",
     "output_type": "stream",
     "text": [
      "10\n",
      "10\n"
     ]
    }
   ],
   "source": [
    "x = 10\n",
    "def foo():\n",
    "    print(x)\n",
    "\n",
    "foo()\n",
    "print(x)"
   ]
  },
  {
   "cell_type": "code",
   "execution_count": 10,
   "metadata": {},
   "outputs": [
    {
     "name": "stdout",
     "output_type": "stream",
     "text": [
      "10\n"
     ]
    },
    {
     "ename": "NameError",
     "evalue": "name 'y' is not defined",
     "output_type": "error",
     "traceback": [
      "\u001b[0;31m---------------------------------------------------------------------------\u001b[0m",
      "\u001b[0;31mNameError\u001b[0m                                 Traceback (most recent call last)",
      "\u001b[0;32m<ipython-input-10-cbbf8a489a1c>\u001b[0m in \u001b[0;36m<module>\u001b[0;34m\u001b[0m\n\u001b[1;32m      4\u001b[0m \u001b[0;34m\u001b[0m\u001b[0m\n\u001b[1;32m      5\u001b[0m \u001b[0mfoo\u001b[0m\u001b[0;34m(\u001b[0m\u001b[0;34m)\u001b[0m\u001b[0;34m\u001b[0m\u001b[0;34m\u001b[0m\u001b[0m\n\u001b[0;32m----> 6\u001b[0;31m \u001b[0mprint\u001b[0m\u001b[0;34m(\u001b[0m\u001b[0my\u001b[0m\u001b[0;34m)\u001b[0m   \u001b[0;31m# error\u001b[0m\u001b[0;34m\u001b[0m\u001b[0;34m\u001b[0m\u001b[0m\n\u001b[0m",
      "\u001b[0;31mNameError\u001b[0m: name 'y' is not defined"
     ]
    }
   ],
   "source": [
    "def foo():\n",
    "    y = 10\n",
    "    print(y)\n",
    "\n",
    "foo()\n",
    "print(y)   # error"
   ]
  },
  {
   "cell_type": "code",
   "execution_count": 13,
   "metadata": {},
   "outputs": [
    {
     "name": "stdout",
     "output_type": "stream",
     "text": [
      "20\n",
      "20\n"
     ]
    }
   ],
   "source": [
    "z = 10\n",
    "def foo():\n",
    "    global z  # will use global\n",
    "    z = 20    # global variable \n",
    "    print(z)\n",
    "\n",
    "foo()\n",
    "print(z)      # global variable"
   ]
  },
  {
   "cell_type": "code",
   "execution_count": 15,
   "metadata": {},
   "outputs": [
    {
     "name": "stdout",
     "output_type": "stream",
     "text": [
      "30\n",
      "30\n"
     ]
    }
   ],
   "source": [
    "def foo():\n",
    "    global a  # make a as global variable\n",
    "    a = 30    # global variable \n",
    "    print(a)\n",
    "\n",
    "foo()\n",
    "print(a)      # global variable"
   ]
  },
  {
   "cell_type": "markdown",
   "metadata": {},
   "source": [
    "### function in function"
   ]
  },
  {
   "cell_type": "code",
   "execution_count": 18,
   "metadata": {},
   "outputs": [
    {
     "name": "stdout",
     "output_type": "stream",
     "text": [
      "hi, world\n"
     ]
    }
   ],
   "source": [
    "def print_hi():\n",
    "    hi = 'hi, world'\n",
    "    def print_message():\n",
    "        print(hi)\n",
    "    print_message()\n",
    "\n",
    "print_hi()"
   ]
  },
  {
   "cell_type": "markdown",
   "metadata": {},
   "source": [
    "#### scope of local variable\n",
    " - When create new variable in the function, that variable becomes 'local variable' of the function.\n",
    " - To prevent this and change the outer local var. value, we should use 'nonlocal' keyword."
   ]
  },
  {
   "cell_type": "code",
   "execution_count": 21,
   "metadata": {},
   "outputs": [
    {
     "name": "stdout",
     "output_type": "stream",
     "text": [
      "10\n"
     ]
    }
   ],
   "source": [
    "def A():\n",
    "    x = 10      # local var. x of A\n",
    "    def B():\n",
    "        x = 20  \n",
    "    B()\n",
    "    print(x)    # print local var. x of A()\n",
    "\n",
    "A()"
   ]
  },
  {
   "cell_type": "code",
   "execution_count": 23,
   "metadata": {},
   "outputs": [
    {
     "name": "stdout",
     "output_type": "stream",
     "text": [
      "20\n"
     ]
    }
   ],
   "source": [
    "def A():\n",
    "    x = 10\n",
    "    def B():\n",
    "        nonlocal x   # use outer local variable\n",
    "        x = 20       # assign 20 to local var. of A()\n",
    "    \n",
    "    B()\n",
    "    print(x)         # print local var. x of A()\n",
    "    \n",
    "A()"
   ]
  },
  {
   "cell_type": "markdown",
   "metadata": {},
   "source": [
    "#### order of nonlocal's finding variable"
   ]
  },
  {
   "cell_type": "code",
   "execution_count": 24,
   "metadata": {},
   "outputs": [
    {
     "name": "stdout",
     "output_type": "stream",
     "text": [
      "50\n",
      "400\n"
     ]
    }
   ],
   "source": [
    "def A():\n",
    "    x = 10\n",
    "    y = 100 \n",
    "    def B():\n",
    "        x = 20\n",
    "        def C():\n",
    "            nonlocal x\n",
    "            nonlocal y\n",
    "            x = x+30\n",
    "            y = y+300\n",
    "            print(x)\n",
    "            print(y)\n",
    "        C()\n",
    "    B()\n",
    "\n",
    "A()"
   ]
  },
  {
   "cell_type": "markdown",
   "metadata": {},
   "source": [
    "#### global : always use global variable"
   ]
  },
  {
   "cell_type": "code",
   "execution_count": 25,
   "metadata": {},
   "outputs": [
    {
     "name": "stdout",
     "output_type": "stream",
     "text": [
      "78\n"
     ]
    }
   ],
   "source": [
    "x = 1\n",
    "def A():\n",
    "    x = 10\n",
    "    def B():\n",
    "        x = 20\n",
    "        def C():\n",
    "            global x\n",
    "            x = x+77\n",
    "            print(x)\n",
    "        C()\n",
    "    B()\n",
    "\n",
    "A()"
   ]
  },
  {
   "cell_type": "markdown",
   "metadata": {},
   "source": [
    "### Closure"
   ]
  },
  {
   "cell_type": "code",
   "execution_count": 26,
   "metadata": {},
   "outputs": [
    {
     "name": "stdout",
     "output_type": "stream",
     "text": [
      "9 16 23 30\n"
     ]
    }
   ],
   "source": [
    "def calc():\n",
    "    a = 7\n",
    "    b = 2\n",
    "    def mul_add(x):\n",
    "        return a * x + b\n",
    "    return mul_add              # no parentheses when return function\n",
    "\n",
    "c = calc()                      # closure\n",
    "print(c(1), c(2), c(3), c(4))"
   ]
  },
  {
   "cell_type": "markdown",
   "metadata": {},
   "source": [
    "#### Some explanations\n",
    " - Function calc() is done, but c is still executing calculation using local variable a and b.\n",
    " - We call this kind of function 'closure' that  \n",
    "     1) maintains the flow of this functional environment(local variables, code, etc)  \n",
    "     2) and re-use when the function gets called again. \n",
    " - Function that is stored at 'c' is closure.\n",
    " - We can save the flow of the program through closure.\n",
    " - We use closure when we want to group and use local variables and codes together.\n",
    " - Also, we use closure to hide data,  \n",
    "   since local variables that is contained in the closure cannot be accessed directly from outside."
   ]
  },
  {
   "cell_type": "markdown",
   "metadata": {},
   "source": [
    "### lambda and closure\n",
    " - we can generate closure more simply through lambda"
   ]
  },
  {
   "cell_type": "code",
   "execution_count": 27,
   "metadata": {},
   "outputs": [
    {
     "name": "stdout",
     "output_type": "stream",
     "text": [
      "8 11 14\n"
     ]
    }
   ],
   "source": [
    "def calc():\n",
    "    a = 3\n",
    "    b = 5\n",
    "    return lambda x: a * x + b\n",
    "\n",
    "c = calc()\n",
    "print(c(1),c(2),c(3))"
   ]
  },
  {
   "cell_type": "markdown",
   "metadata": {},
   "source": [
    "#### points\n",
    " - lambda : no-named anonymous function\n",
    " - closure : function that keeps environments and is re-used later"
   ]
  },
  {
   "cell_type": "markdown",
   "metadata": {},
   "source": [
    "### change the value of local variable in the closure"
   ]
  },
  {
   "cell_type": "code",
   "execution_count": 31,
   "metadata": {},
   "outputs": [
    {
     "name": "stdout",
     "output_type": "stream",
     "text": [
      "a,x,b : 3 1 5 8\n",
      "8\n",
      "a,x,b : 3 2 5 19\n",
      "19\n",
      "a,x,b : 3 3 5 33\n",
      "33\n"
     ]
    }
   ],
   "source": [
    "def calc():\n",
    "    a = 3\n",
    "    b = 5\n",
    "    total = 0\n",
    "    def mul_add(x):\n",
    "        nonlocal total\n",
    "        total = total + a * x + b\n",
    "        print('a,x,b :',a, x, b, total)\n",
    "        print(total)\n",
    "    return mul_add\n",
    "\n",
    "c = calc()\n",
    "c(1)\n",
    "c(2)\n",
    "c(3)"
   ]
  },
  {
   "cell_type": "markdown",
   "metadata": {},
   "source": [
    "# ... (Advanced) First-Class Object ..."
   ]
  },
  {
   "cell_type": "code",
   "execution_count": null,
   "metadata": {},
   "outputs": [],
   "source": []
  }
 ],
 "metadata": {
  "kernelspec": {
   "display_name": "Python 3",
   "language": "python",
   "name": "python3"
  },
  "language_info": {
   "codemirror_mode": {
    "name": "ipython",
    "version": 3
   },
   "file_extension": ".py",
   "mimetype": "text/x-python",
   "name": "python",
   "nbconvert_exporter": "python",
   "pygments_lexer": "ipython3",
   "version": "3.8.3"
  }
 },
 "nbformat": 4,
 "nbformat_minor": 4
}
