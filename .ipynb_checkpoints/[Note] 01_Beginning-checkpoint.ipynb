{
 "cells": [
  {
   "cell_type": "markdown",
   "metadata": {},
   "source": [
    "# AI Developer"
   ]
  },
  {
   "cell_type": "markdown",
   "metadata": {},
   "source": [
    "# Terminal\n",
    "\n",
    "- 명령어들\n",
    "\n",
    "    [Command Line 시작하기](https://tutorial.djangogirls.org/ko/intro_to_command_line/)\n",
    "\n",
    "    - whoami / pwd\n",
    "    - ls / ls -al\n",
    "        - a : 숨김 파일까지 모두 출력하라\n",
    "        - l : 자세히 정보를 출력하라 (long format)\n",
    "\n",
    "            [리눅스 ls -l 명령어 - 파일 정보 확인과 의미](https://www.leafcats.com/137)\n",
    "\n",
    "    - mkdir / mv\n",
    "        - cp  -r  filefoldername : 폴더명일 경우엔 -r 옵션을 붙여준다.\n",
    "    - del / rmdir / rm\n",
    "        - rm   -r   filefoldername 에서, r 은 Recursive(반복적/재귀적)를 의미\n",
    "        → 즉, 디렉토리에 대해서는 -r 옵션이 필요하고 파일에 대해서는 불필요"
   ]
  },
  {
   "cell_type": "code",
   "execution_count": null,
   "metadata": {},
   "outputs": [],
   "source": []
  }
 ],
 "metadata": {
  "kernelspec": {
   "display_name": "Python 3",
   "language": "python",
   "name": "python3"
  },
  "language_info": {
   "codemirror_mode": {
    "name": "ipython",
    "version": 3
   },
   "file_extension": ".py",
   "mimetype": "text/x-python",
   "name": "python",
   "nbconvert_exporter": "python",
   "pygments_lexer": "ipython3",
   "version": "3.8.3"
  }
 },
 "nbformat": 4,
 "nbformat_minor": 4
}
