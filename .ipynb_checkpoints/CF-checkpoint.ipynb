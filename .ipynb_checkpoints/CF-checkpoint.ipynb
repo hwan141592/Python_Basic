{
 "cells": [
  {
   "cell_type": "markdown",
   "metadata": {},
   "source": [
    "#### 기본적인 추천시스템 \n",
    " - 협업필터링(Collaborative Filtering)\n",
    " - 콘텐츠 기반 필터링(Contents-based Filtering)\n",
    " - 한 마디로, 추천시스템은 '아이템은 매우 많고' '유저의 취향은 다양할 때' 유저가 소비할 만한 아이템을 예측하는 모델."
   ]
  },
  {
   "cell_type": "markdown",
   "metadata": {},
   "source": [
    "#### Collaborative Filtering\n",
    " - 대규모의 기존 사용자 행동 정보를 분석하여 해당 사용자와 비슷한 성향의 사용자들이 기존에 좋아했던 항목을 추천하는 기술\n",
    " - 핵심 : 비슷한 패턴을 가진 사용자나 항목을 추출하는 기술\n",
    " - 장점 : 직관적이고 항목의 구체적인 내용을 분석할 필요 x\n",
    " - 한계1 : Cold Start Issue\n",
    " - 한계2 : 계산량이 많아서 사용자 수가 많은 경우 효율적으로 추천할 수 없다 (e.g. MF)\n",
    " - 한계3 : Long Tail 이슈 -> 사용자들에게 인기 있는 항목은 전체에서 소수 (비대칭적 쏠림)\n",
    " - Matrix Factorization & k-Nearest Neighbor Algorithm (kNN)\n",
    " - Amazon, Last fm, Facebook, LinkedIn"
   ]
  },
  {
   "cell_type": "markdown",
   "metadata": {},
   "source": [
    "#### Contents-based Filtering\n",
    " - 항목 자체를 분석하여 추천을 구현  \n",
    "  -> e.g.) 음악을 추천하기 위해 음악 자체를 분석하여 유사한 음악을 추천  \n",
    " - Item Profile과 User Profile의 유사성을 계산  \n",
    "   - Item Profile : 항목을 분석한 프로파일   \n",
    "     -> e.g.) 음악의 장르, 비트, 음색 등)  \n",
    "   - User Profile : 사용자의 선호도를 추출한 프로파일  \n",
    "     -> e.g.) 사용자가 like한 음악의 특색들  \n",
    " - 핵심 : 아이템 분석 알고리즘  \n",
    " - 군집분석(Clustering Analysis), 인공신경망(Artificial Neural Network), tf-id(term frequency - inverse document frequency) 등의 기술이 사용됨.\n",
    " - 장점 : No Cold Start Issue\n",
    " - 단점 : 다양한 형식의 항목을 추천하기 어렵다.\n",
    " - 현재는 많이 쓰이지 않음."
   ]
  },
  {
   "cell_type": "markdown",
   "metadata": {},
   "source": [
    "#### Model-Based Collaborative Filtering Algorithm\n",
    " - 협업필터링 + 자료 안에 내재한 패턴 이용\n",
    " - 핵심 : 자료 안에 내재되어 있는 패턴을 알아내는 것\n",
    " - LDA(Latent Dirichlet Allocation), 베이지안 네트워크(Bayesian Network) 등의 알고리즘이 사용됨."
   ]
  },
  {
   "cell_type": "markdown",
   "metadata": {},
   "source": [
    "#### Filter Bubble\n",
    "  - 추천 시스템이 고도화될 수록 사용자의 입맛에 맞는 정보만 제공되고 나머지 정보는 감추어지는 위험이 생김\n",
    "  - 상품이나 광고에 비해 뉴스나 정보의 경우 예기치 않은 정보의 차단이 문제가 될 수 있음"
   ]
  },
  {
   "cell_type": "code",
   "execution_count": 4,
   "metadata": {},
   "outputs": [],
   "source": [
    "import implicit\n",
    "import pandas as pd\n",
    "import os"
   ]
  },
  {
   "cell_type": "code",
   "execution_count": 20,
   "metadata": {},
   "outputs": [
    {
     "data": {
      "text/html": [
       "<div>\n",
       "<style scoped>\n",
       "    .dataframe tbody tr th:only-of-type {\n",
       "        vertical-align: middle;\n",
       "    }\n",
       "\n",
       "    .dataframe tbody tr th {\n",
       "        vertical-align: top;\n",
       "    }\n",
       "\n",
       "    .dataframe thead th {\n",
       "        text-align: right;\n",
       "    }\n",
       "</style>\n",
       "<table border=\"1\" class=\"dataframe\">\n",
       "  <thead>\n",
       "    <tr style=\"text-align: right;\">\n",
       "      <th></th>\n",
       "      <th>user_id</th>\n",
       "      <th>artist_MBID</th>\n",
       "      <th>artist</th>\n",
       "      <th>play</th>\n",
       "    </tr>\n",
       "  </thead>\n",
       "  <tbody>\n",
       "    <tr>\n",
       "      <th>0</th>\n",
       "      <td>00000c289a1829a808ac09c00daf10bc3c4e223b</td>\n",
       "      <td>3bd73256-3905-4f3a-97e2-8b341527f805</td>\n",
       "      <td>betty blowtorch</td>\n",
       "      <td>2137</td>\n",
       "    </tr>\n",
       "    <tr>\n",
       "      <th>1</th>\n",
       "      <td>00000c289a1829a808ac09c00daf10bc3c4e223b</td>\n",
       "      <td>f2fb0ff0-5679-42ec-a55c-15109ce6e320</td>\n",
       "      <td>die Ärzte</td>\n",
       "      <td>1099</td>\n",
       "    </tr>\n",
       "    <tr>\n",
       "      <th>2</th>\n",
       "      <td>00000c289a1829a808ac09c00daf10bc3c4e223b</td>\n",
       "      <td>b3ae82c2-e60b-4551-a76d-6620f1b456aa</td>\n",
       "      <td>melissa etheridge</td>\n",
       "      <td>897</td>\n",
       "    </tr>\n",
       "  </tbody>\n",
       "</table>\n",
       "</div>"
      ],
      "text/plain": [
       "                                    user_id  \\\n",
       "0  00000c289a1829a808ac09c00daf10bc3c4e223b   \n",
       "1  00000c289a1829a808ac09c00daf10bc3c4e223b   \n",
       "2  00000c289a1829a808ac09c00daf10bc3c4e223b   \n",
       "\n",
       "                            artist_MBID             artist  play  \n",
       "0  3bd73256-3905-4f3a-97e2-8b341527f805    betty blowtorch  2137  \n",
       "1  f2fb0ff0-5679-42ec-a55c-15109ce6e320          die Ärzte  1099  \n",
       "2  b3ae82c2-e60b-4551-a76d-6620f1b456aa  melissa etheridge   897  "
      ]
     },
     "execution_count": 20,
     "metadata": {},
     "output_type": "execute_result"
    }
   ],
   "source": [
    "# os.getenv('HOME')+'/...'\n",
    "col_names = ['user_id', 'artist_MBID', 'artist', 'play']\n",
    "d_orig = pd.read_csv('../TIL/data/lastfm-dataset-360K/usersha1-artmbid-artname-plays.tsv',\n",
    "            sep='\\t', names=col_names)\n",
    "d = d_orig.copy()\n",
    "d.head(3)"
   ]
  },
  {
   "cell_type": "code",
   "execution_count": 21,
   "metadata": {},
   "outputs": [
    {
     "data": {
      "text/html": [
       "<div>\n",
       "<style scoped>\n",
       "    .dataframe tbody tr th:only-of-type {\n",
       "        vertical-align: middle;\n",
       "    }\n",
       "\n",
       "    .dataframe tbody tr th {\n",
       "        vertical-align: top;\n",
       "    }\n",
       "\n",
       "    .dataframe thead th {\n",
       "        text-align: right;\n",
       "    }\n",
       "</style>\n",
       "<table border=\"1\" class=\"dataframe\">\n",
       "  <thead>\n",
       "    <tr style=\"text-align: right;\">\n",
       "      <th></th>\n",
       "      <th>user_id</th>\n",
       "      <th>artist</th>\n",
       "      <th>play</th>\n",
       "    </tr>\n",
       "  </thead>\n",
       "  <tbody>\n",
       "    <tr>\n",
       "      <th>0</th>\n",
       "      <td>00000c289a1829a808ac09c00daf10bc3c4e223b</td>\n",
       "      <td>betty blowtorch</td>\n",
       "      <td>2137</td>\n",
       "    </tr>\n",
       "    <tr>\n",
       "      <th>1</th>\n",
       "      <td>00000c289a1829a808ac09c00daf10bc3c4e223b</td>\n",
       "      <td>die Ärzte</td>\n",
       "      <td>1099</td>\n",
       "    </tr>\n",
       "    <tr>\n",
       "      <th>2</th>\n",
       "      <td>00000c289a1829a808ac09c00daf10bc3c4e223b</td>\n",
       "      <td>melissa etheridge</td>\n",
       "      <td>897</td>\n",
       "    </tr>\n",
       "  </tbody>\n",
       "</table>\n",
       "</div>"
      ],
      "text/plain": [
       "                                    user_id             artist  play\n",
       "0  00000c289a1829a808ac09c00daf10bc3c4e223b    betty blowtorch  2137\n",
       "1  00000c289a1829a808ac09c00daf10bc3c4e223b          die Ärzte  1099\n",
       "2  00000c289a1829a808ac09c00daf10bc3c4e223b  melissa etheridge   897"
      ]
     },
     "execution_count": 21,
     "metadata": {},
     "output_type": "execute_result"
    }
   ],
   "source": [
    "using_cols = ['user_id', 'artist', 'play']\n",
    "d = d[using_cols]\n",
    "d.head(3)"
   ]
  },
  {
   "cell_type": "code",
   "execution_count": 22,
   "metadata": {},
   "outputs": [
    {
     "data": {
      "text/html": [
       "<div>\n",
       "<style scoped>\n",
       "    .dataframe tbody tr th:only-of-type {\n",
       "        vertical-align: middle;\n",
       "    }\n",
       "\n",
       "    .dataframe tbody tr th {\n",
       "        vertical-align: top;\n",
       "    }\n",
       "\n",
       "    .dataframe thead th {\n",
       "        text-align: right;\n",
       "    }\n",
       "</style>\n",
       "<table border=\"1\" class=\"dataframe\">\n",
       "  <thead>\n",
       "    <tr style=\"text-align: right;\">\n",
       "      <th></th>\n",
       "      <th>user_id</th>\n",
       "      <th>artist</th>\n",
       "      <th>play</th>\n",
       "    </tr>\n",
       "  </thead>\n",
       "  <tbody>\n",
       "    <tr>\n",
       "      <th>0</th>\n",
       "      <td>00000c289a1829a808ac09c00daf10bc3c4e223b</td>\n",
       "      <td>betty blowtorch</td>\n",
       "      <td>2137</td>\n",
       "    </tr>\n",
       "    <tr>\n",
       "      <th>1</th>\n",
       "      <td>00000c289a1829a808ac09c00daf10bc3c4e223b</td>\n",
       "      <td>die ärzte</td>\n",
       "      <td>1099</td>\n",
       "    </tr>\n",
       "    <tr>\n",
       "      <th>2</th>\n",
       "      <td>00000c289a1829a808ac09c00daf10bc3c4e223b</td>\n",
       "      <td>melissa etheridge</td>\n",
       "      <td>897</td>\n",
       "    </tr>\n",
       "  </tbody>\n",
       "</table>\n",
       "</div>"
      ],
      "text/plain": [
       "                                    user_id             artist  play\n",
       "0  00000c289a1829a808ac09c00daf10bc3c4e223b    betty blowtorch  2137\n",
       "1  00000c289a1829a808ac09c00daf10bc3c4e223b          die ärzte  1099\n",
       "2  00000c289a1829a808ac09c00daf10bc3c4e223b  melissa etheridge   897"
      ]
     },
     "execution_count": 22,
     "metadata": {},
     "output_type": "execute_result"
    }
   ],
   "source": [
    "# in order to search easily : lower the letters\n",
    "d['artist'] = d['artist'].str.lower()\n",
    "d.head(3)"
   ]
  },
  {
   "cell_type": "markdown",
   "metadata": {},
   "source": [
    "#### user \"00000c289a1829a808ac09c00daf10bc3c4e223b\"'s artists"
   ]
  },
  {
   "cell_type": "code",
   "execution_count": 25,
   "metadata": {},
   "outputs": [
    {
     "data": {
      "text/plain": [
       "'00000c289a1829a808ac09c00daf10bc3c4e223b'"
      ]
     },
     "execution_count": 25,
     "metadata": {},
     "output_type": "execute_result"
    }
   ],
   "source": [
    "d.loc[0,'user_id']   # df[row_num, col_num]"
   ]
  },
  {
   "cell_type": "code",
   "execution_count": 31,
   "metadata": {},
   "outputs": [
    {
     "name": "stdout",
     "output_type": "stream",
     "text": [
      "<class 'pandas.core.series.Series'>\n"
     ]
    },
    {
     "data": {
      "text/plain": [
       "0    True\n",
       "1    True\n",
       "Name: user_id, dtype: bool"
      ]
     },
     "execution_count": 31,
     "metadata": {},
     "output_type": "execute_result"
    }
   ],
   "source": [
    "con = d['user_id'] == d.loc[0,'user_id']\n",
    "print(type(con))\n",
    "con.head(2)"
   ]
  },
  {
   "cell_type": "code",
   "execution_count": 35,
   "metadata": {
    "scrolled": true
   },
   "outputs": [
    {
     "name": "stdout",
     "output_type": "stream",
     "text": [
      "(49, 3)\n"
     ]
    },
    {
     "data": {
      "text/html": [
       "<div>\n",
       "<style scoped>\n",
       "    .dataframe tbody tr th:only-of-type {\n",
       "        vertical-align: middle;\n",
       "    }\n",
       "\n",
       "    .dataframe tbody tr th {\n",
       "        vertical-align: top;\n",
       "    }\n",
       "\n",
       "    .dataframe thead th {\n",
       "        text-align: right;\n",
       "    }\n",
       "</style>\n",
       "<table border=\"1\" class=\"dataframe\">\n",
       "  <thead>\n",
       "    <tr style=\"text-align: right;\">\n",
       "      <th></th>\n",
       "      <th>user_id</th>\n",
       "      <th>artist</th>\n",
       "      <th>play</th>\n",
       "    </tr>\n",
       "  </thead>\n",
       "  <tbody>\n",
       "    <tr>\n",
       "      <th>44</th>\n",
       "      <td>00000c289a1829a808ac09c00daf10bc3c4e223b</td>\n",
       "      <td>betty</td>\n",
       "      <td>135</td>\n",
       "    </tr>\n",
       "    <tr>\n",
       "      <th>45</th>\n",
       "      <td>00000c289a1829a808ac09c00daf10bc3c4e223b</td>\n",
       "      <td>l7</td>\n",
       "      <td>135</td>\n",
       "    </tr>\n",
       "    <tr>\n",
       "      <th>46</th>\n",
       "      <td>00000c289a1829a808ac09c00daf10bc3c4e223b</td>\n",
       "      <td>bif naked</td>\n",
       "      <td>134</td>\n",
       "    </tr>\n",
       "    <tr>\n",
       "      <th>47</th>\n",
       "      <td>00000c289a1829a808ac09c00daf10bc3c4e223b</td>\n",
       "      <td>girlschool</td>\n",
       "      <td>134</td>\n",
       "    </tr>\n",
       "    <tr>\n",
       "      <th>48</th>\n",
       "      <td>00000c289a1829a808ac09c00daf10bc3c4e223b</td>\n",
       "      <td>the wallflowers</td>\n",
       "      <td>131</td>\n",
       "    </tr>\n",
       "  </tbody>\n",
       "</table>\n",
       "</div>"
      ],
      "text/plain": [
       "                                     user_id           artist  play\n",
       "44  00000c289a1829a808ac09c00daf10bc3c4e223b            betty   135\n",
       "45  00000c289a1829a808ac09c00daf10bc3c4e223b               l7   135\n",
       "46  00000c289a1829a808ac09c00daf10bc3c4e223b        bif naked   134\n",
       "47  00000c289a1829a808ac09c00daf10bc3c4e223b       girlschool   134\n",
       "48  00000c289a1829a808ac09c00daf10bc3c4e223b  the wallflowers   131"
      ]
     },
     "execution_count": 35,
     "metadata": {},
     "output_type": "execute_result"
    }
   ],
   "source": [
    "condition = (d['user_id']==d.loc[0,'user_id'])\n",
    "print(d.loc[condition].shape)\n",
    "d.loc[condition].tail(5)"
   ]
  },
  {
   "cell_type": "markdown",
   "metadata": {},
   "source": [
    "## EDA"
   ]
  },
  {
   "cell_type": "code",
   "execution_count": 36,
   "metadata": {},
   "outputs": [
    {
     "data": {
      "text/plain": [
       "358868"
      ]
     },
     "execution_count": 36,
     "metadata": {},
     "output_type": "execute_result"
    }
   ],
   "source": [
    "# how many users?\n",
    "d['user_id'].nunique()"
   ]
  },
  {
   "cell_type": "code",
   "execution_count": 37,
   "metadata": {},
   "outputs": [
    {
     "data": {
      "text/plain": [
       "291346"
      ]
     },
     "execution_count": 37,
     "metadata": {},
     "output_type": "execute_result"
    }
   ],
   "source": [
    "# how many artists?\n",
    "d['artist'].nunique()"
   ]
  },
  {
   "cell_type": "code",
   "execution_count": 38,
   "metadata": {},
   "outputs": [
    {
     "data": {
      "text/plain": [
       "artist\n",
       "radiohead                77254\n",
       "the beatles              76245\n",
       "coldplay                 66658\n",
       "red hot chili peppers    48924\n",
       "muse                     46954\n",
       "metallica                45233\n",
       "pink floyd               44443\n",
       "the killers              41229\n",
       "linkin park              39773\n",
       "nirvana                  39479\n",
       "Name: user_id, dtype: int64"
      ]
     },
     "execution_count": 38,
     "metadata": {},
     "output_type": "execute_result"
    }
   ],
   "source": [
    "# who are popular artists?\n",
    "artist_cnt = d.groupby('artist')['user_id'].count()\n",
    "artist_cnt.sort_values(ascending=False).head(10)"
   ]
  },
  {
   "cell_type": "code",
   "execution_count": 42,
   "metadata": {},
   "outputs": [
    {
     "data": {
      "text/plain": [
       "count    358868.000000\n",
       "mean         48.863234\n",
       "std           8.524272\n",
       "min           1.000000\n",
       "25%          46.000000\n",
       "50%          49.000000\n",
       "75%          51.000000\n",
       "max         166.000000\n",
       "Name: artist, dtype: float64"
      ]
     },
     "execution_count": 42,
     "metadata": {},
     "output_type": "execute_result"
    }
   ],
   "source": [
    "# how many artists each user is listening to\n",
    "user_cnt = d.groupby('user_id')['artist'].count()\n",
    "user_cnt.describe()"
   ]
  },
  {
   "cell_type": "code",
   "execution_count": 44,
   "metadata": {},
   "outputs": [
    {
     "data": {
      "text/plain": [
       "count    358868.000000\n",
       "mean        142.187676\n",
       "std         213.089902\n",
       "min           1.000000\n",
       "25%          32.000000\n",
       "50%          83.000000\n",
       "75%         180.000000\n",
       "max       50142.000000\n",
       "Name: play, dtype: float64"
      ]
     },
     "execution_count": 44,
     "metadata": {},
     "output_type": "execute_result"
    }
   ],
   "source": [
    "# statistics about median value of 'play_count's per user\n",
    "user_median = d.groupby(\"user_id\")['play'].median()\n",
    "user_median.describe()"
   ]
  },
  {
   "cell_type": "code",
   "execution_count": 49,
   "metadata": {},
   "outputs": [
    {
     "data": {
      "text/plain": [
       "user_id\n",
       "00000c289a1829a808ac09c00daf10bc3c4e223b    49\n",
       "00001411dc427966b17297bf4d69e7e193135d89    51\n",
       "00004d2ac9316e22dc007ab2243d6fcb239e707d    46\n",
       "000063d3fe1cf2ba248b9e3c3f0334845a27a6bf    49\n",
       "00007a47085b9aab8af55f52ec8846ac479ac4fe    50\n",
       "                                            ..\n",
       "fffe8637bd8234309e871409c7ebef99a720afc1    48\n",
       "fffe8c7f952d9b960a56ed4dcb40a415d924b224    62\n",
       "ffff9af9ae04d263dae91cb838b1f3a6725f5ffb    21\n",
       "ffff9ef87a7d9494ada2f9ade4b9ff637c0759ac    50\n",
       "sep 20, 2008                                48\n",
       "Name: play, Length: 358868, dtype: int64"
      ]
     },
     "execution_count": 49,
     "metadata": {},
     "output_type": "execute_result"
    }
   ],
   "source": [
    "tmp = d.groupby(\"user_id\")['play']\n",
    "tmp.count()"
   ]
  },
  {
   "cell_type": "code",
   "execution_count": 52,
   "metadata": {},
   "outputs": [
    {
     "data": {
      "text/plain": [
       "count    358868.000000\n",
       "mean         48.863802\n",
       "std           8.524191\n",
       "min           1.000000\n",
       "25%          46.000000\n",
       "50%          49.000000\n",
       "75%          51.000000\n",
       "max         166.000000\n",
       "Name: play, dtype: float64"
      ]
     },
     "execution_count": 52,
     "metadata": {},
     "output_type": "execute_result"
    }
   ],
   "source": [
    "tmp.count().describe()"
   ]
  },
  {
   "cell_type": "markdown",
   "metadata": {},
   "source": [
    "#### user profile setting"
   ]
  },
  {
   "cell_type": "code",
   "execution_count": 57,
   "metadata": {},
   "outputs": [
    {
     "data": {
      "text/plain": [
       "array(['betty blowtorch', 'die ärzte', 'melissa etheridge', 'elvenking',\n",
       "       'juliette & the licks'], dtype=object)"
      ]
     },
     "execution_count": 57,
     "metadata": {},
     "output_type": "execute_result"
    }
   ],
   "source": [
    "d['artist'].unique()[0:5]"
   ]
  },
  {
   "cell_type": "code",
   "execution_count": null,
   "metadata": {},
   "outputs": [],
   "source": [
    "my_fav = ['coldplay','girlschool','queen','beyoncé','boris']\n"
   ]
  },
  {
   "cell_type": "code",
   "execution_count": null,
   "metadata": {},
   "outputs": [],
   "source": []
  },
  {
   "cell_type": "code",
   "execution_count": null,
   "metadata": {},
   "outputs": [],
   "source": []
  },
  {
   "cell_type": "code",
   "execution_count": null,
   "metadata": {},
   "outputs": [],
   "source": []
  },
  {
   "cell_type": "code",
   "execution_count": null,
   "metadata": {},
   "outputs": [],
   "source": []
  },
  {
   "cell_type": "code",
   "execution_count": null,
   "metadata": {},
   "outputs": [],
   "source": []
  },
  {
   "cell_type": "code",
   "execution_count": null,
   "metadata": {},
   "outputs": [],
   "source": []
  },
  {
   "cell_type": "code",
   "execution_count": null,
   "metadata": {},
   "outputs": [],
   "source": [
    "my_favorite = ['black eyed']"
   ]
  },
  {
   "cell_type": "code",
   "execution_count": 6,
   "metadata": {},
   "outputs": [
    {
     "data": {
      "text/plain": [
       "'/Users/hwan'"
      ]
     },
     "execution_count": 6,
     "metadata": {},
     "output_type": "execute_result"
    }
   ],
   "source": []
  },
  {
   "cell_type": "code",
   "execution_count": null,
   "metadata": {},
   "outputs": [],
   "source": [
    "fname = os.getenv('HOME') + '/aiffel/recommendata_iu/data/lastfm-dataset-360K/usersha1-artmbid-artname-plays.tsv'\n",
    "col_names = ['user_id', 'artist_MBID', 'artist', 'play']   # 임의로 지정한 컬럼명\n",
    "data = pd.read_csv(fname, sep='\\t', names= col_names)      # sep='\\t'로 주어야 tsv를 열 수 있습니다.  \n",
    "data.head(10)"
   ]
  }
 ],
 "metadata": {
  "kernelspec": {
   "display_name": "Python 3",
   "language": "python",
   "name": "python3"
  },
  "language_info": {
   "codemirror_mode": {
    "name": "ipython",
    "version": 3
   },
   "file_extension": ".py",
   "mimetype": "text/x-python",
   "name": "python",
   "nbconvert_exporter": "python",
   "pygments_lexer": "ipython3",
   "version": "3.8.3"
  }
 },
 "nbformat": 4,
 "nbformat_minor": 4
}
