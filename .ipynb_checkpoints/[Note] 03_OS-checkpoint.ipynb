{
 "cells": [
  {
   "cell_type": "markdown",
   "metadata": {},
   "source": [
    "# OS"
   ]
  },
  {
   "cell_type": "markdown",
   "metadata": {},
   "source": [
    "# Operatijng System\n",
    "\n",
    "- OS = kernel(알맹이) + shell(껍데기)\n",
    "- OS별 커널 종류\n",
    "    - 우분투 : 리눅스 커널\n",
    "    - 윈도우 : NT 커널\n",
    "    - 맥OS : XNU 커널\n",
    "\n",
    "### [!] about 리눅스 운영체제?\n",
    "\n",
    "- 리눅스 운영체제 라고 부르는 것들은 실제로는 리눅스를 커널로써 사용하는 운영체제를 의미\n",
    "- 종류가 많음 : 우분투, Android, ChromeOS, Debian, CentOS, Red Hat Enterprise Linux 등\n",
    "\n",
    "### Shell 이란?\n",
    "\n",
    "- 눈에 보이는 운영체제의 껍데기\n",
    "- 그래픽 기반의 GUI shell 과 텍스트 기반의 CLI shell 로 구분됨.\n",
    "- GUI shell\n",
    "    - 윈도우에서 : Window shell : 시작 버튼을 포함하는 shell\n",
    "    - 맥OS : Aqua\n",
    "    - 리눅스에서 : GNOME, Unity 등\n",
    "- CLI shell\n",
    "    - 윈도우 운영체제 : cmd.exe, PowerShell\n",
    "    - 우분투 및 맥OS : bash\n",
    "    - csh, fish, zsh 등 다양한 CLI shell 직접 설치 후 사용 가능.\n",
    "    - zsh처럼 테마 및 플러그인을 지원하는 shell의 경우 모양과 편의기능을 입맛에 따라 꾸밀 수 있음.\n",
    "\n",
    "### 프로세스 & 스레드\n",
    "\n",
    "- 프로그램 : 컴퓨터가 수행할 작업을 기록해놓은 것\n",
    "- 프로그램이 수행될 때 OS는 이를 process 단위로 관리함\n",
    "- 즉, OS는 프로세스 단위로 메모리와 CPU 연산 등 컴퓨팅 자원을 분배함\n",
    "- 메모리 관리\n",
    "    - OS는 프로세스에게 가상 메모리를 일부 떼어서 제공해줌\n",
    "    - 따라서 다른 프로세스의 메모리는 다른 커널 메모리를 훔쳐볼 수 없음\n",
    "    - 이를 프로세스 격리 (process isolation) 이라고 부름\n",
    "    - 프로세스들이 서로 소통하기 위해서는 별도로 허용된 프로세스 간 통신(Inter-Process Communication, IPC) 기법들을 사용해야 함\n",
    "- CPU 자원 관리\n",
    "    - 메모리는 주소로서 프로세스에게 제공\n",
    "    - CPU의 연산은 코어 단위로 프로세스에 제공됨\n",
    "    - 프로세스는 스레드(thread)라는 단위로 코어를 하나씩 사용할 수가 있음\n",
    "    - 프로세스가 하나 시작되면 기본적으로 하나의 스레드를 가지고 시작하지만, 개발자는 프로그램이 더 많은 스레드를 사용하도록 설계해서 다중 CPU 코어의 이점을 극대화할 수 있음.\n",
    "- 즉,     \n",
    "→ 프로세스 : OS가 메모리를 할당하는 작업단위  \n",
    "→ 스레드 : 프로세스가 할당받은 메모리를 활용하는 실행단위  \n",
    "- 즉, 하나의 프로그램 안에서 여러개의 프로세스를 활용하는 것을 멀티프로세싱  (multiprocessing), 하나의 프로세스 안에서 여러 개의 스레드를 활용하는 것을 멀티스레딩(multithreading)이라 함"
   ]
  },
  {
   "cell_type": "code",
   "execution_count": null,
   "metadata": {},
   "outputs": [],
   "source": []
  }
 ],
 "metadata": {
  "kernelspec": {
   "display_name": "Python 3",
   "language": "python",
   "name": "python3"
  },
  "language_info": {
   "codemirror_mode": {
    "name": "ipython",
    "version": 3
   },
   "file_extension": ".py",
   "mimetype": "text/x-python",
   "name": "python",
   "nbconvert_exporter": "python",
   "pygments_lexer": "ipython3",
   "version": "3.8.3"
  }
 },
 "nbformat": 4,
 "nbformat_minor": 4
}
