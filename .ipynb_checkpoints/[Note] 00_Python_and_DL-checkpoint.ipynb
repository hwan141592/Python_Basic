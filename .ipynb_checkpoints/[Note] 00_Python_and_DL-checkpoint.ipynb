{
 "cells": [
  {
   "cell_type": "markdown",
   "metadata": {},
   "source": [
    "# Python"
   ]
  },
  {
   "cell_type": "markdown",
   "metadata": {},
   "source": [
    "python\n",
    "\n",
    "- 퍼포먼스(성능)는 낮고 생산성은 높음\n",
    "    - 퍼포먼스(성능)  : 얼마나 빨리 처리하는가\n",
    "    - 생산성 : 해당 기능을 얼마나 빠르게 짤 수 있는가\n",
    "- 보통의 언어들에서 퍼포먼스(성능)과 생산성은 반비례함 (trade-off)\n",
    "\n",
    "python을 선택하는 이유 3가지\n",
    "\n",
    "- 높은 생산성\n",
    "- 코드의 간결함\n",
    "- 빠른 개발 속도 (Perl 다음 정도)\n",
    "- 스크립트 언어\n",
    "    - 프로그래밍 언어의 한 종류로, 기존에 이미 존재하는 SW를 제어하기 위한 용도로 쓰이는 언어\n",
    "    - 일반적인 응용SW는 컴파일러를 사용하는 언어에 의해 번역된 채로 실행되기 때문에, 수정이 빈번하게 발생하면 수정후 일일이 컴파일을 다시 실행해야 함.\n",
    "    - 수정이 빈번하게 발생하는 부분은 소스코드를 한줄 한줄 읽어 바로 바로 실행하는 인터프리터 방식이 상당히 유리.\n",
    "    - 응용SW에서 스크립트 언어에 맞는 API를 제공, 응용SW와 상호작용하면서 돌아가게 됨."
   ]
  },
  {
   "cell_type": "markdown",
   "metadata": {},
   "source": [
    "# Deep Learning의 해석"
   ]
  },
  {
   "cell_type": "markdown",
   "metadata": {},
   "source": [
    "- 인공지능 vs. 머신러닝 vs. 딥러닝\n",
    "    - 인공지능은 사람이 직접 프로그래밍 한 내용이 아니라 기계가 자체 규칙 시스템을 구축하는 과학을 말한다.\n",
    "    - 그 중에서도 머신러닝은 데이터를 통해 스스로 학습하는 방법론을 말한다. 데이터를 분석하고, 데이터 안에 있는 패턴을 학습하며, 학습한 내용을 토대로 판단이나 예측을 한다.\n",
    "    - 머신러닝의 하위 집합인 딥러닝은 학습하는 모델의 형태가 신경망인 방법론을 말한다.\n",
    "- 딥러닝의 정의 (by. 조슈아 벤지오)\n",
    "\n",
    "    Deep learning is inspired by neural networks of the brain to build learning machines which discover rich and useful internal representations, computed as a composition of learned features and functions.\n",
    "\n",
    "    뇌의 신경 구조로부터 영감을 받아 신경망 형태로 설계된 딥러닝의 목표는, '합성된 함수를 학습시켜서 풍부하면서도 유용한 '내재적 표현'을 찾아내는 machine을 구축하는 것'이다.\n",
    "\n",
    "- 데이터의 내재된 표현\n",
    "\n",
    "    그 데이터가 담고 있는 정보의 총체, 혹은 함의를 나타내는 표현을 말한다. 다만, raw한 sensory 데이터는 그 자체로는 중요한 의미를 담지 못하고 있을 수 있다. 마치 이미지를 멀리서 보면 강아지가 보이지만, 각 픽셀 하나하나의 값들은 강아지와 직접적인 연관이 없는 것과 같다.\n",
    "\n",
    "    이러한 맥락에서 데이터로부터 표현을 추출해낸다는 것은 데이터 안에 내재되어 있는, 추상적인 표현을 추출한다는 것을 의미한다. 강아지가 찍힌 이미지에서 좋은 표현을 추출해내려면 픽셀 하나하나의 값으로부터 '강아지'라는 의미를 담고 있는 벡터를 추출해낼 수 있어야 할 것이다.\n",
    "\n",
    "    딥러닝의 본질은 이렇게 데이터로부터 내재된 표현을 추출해내는 것이며, 이는 모델을 Gradient Descent 기반의 학습으로 수행할 수 있다. 물론 더 뛰어난 모델을 얻기 위해서는 모델의 구조나 최적화 기법 등의 세부적인 요인들을 연구하는 것이 필수적이다."
   ]
  },
  {
   "cell_type": "code",
   "execution_count": null,
   "metadata": {},
   "outputs": [],
   "source": []
  }
 ],
 "metadata": {
  "kernelspec": {
   "display_name": "Python 3",
   "language": "python",
   "name": "python3"
  },
  "language_info": {
   "codemirror_mode": {
    "name": "ipython",
    "version": 3
   },
   "file_extension": ".py",
   "mimetype": "text/x-python",
   "name": "python",
   "nbconvert_exporter": "python",
   "pygments_lexer": "ipython3",
   "version": "3.8.3"
  }
 },
 "nbformat": 4,
 "nbformat_minor": 4
}
